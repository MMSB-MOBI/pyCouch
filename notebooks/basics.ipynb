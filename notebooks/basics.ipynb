{
 "cells": [
  {
   "cell_type": "code",
   "execution_count": 1,
   "metadata": {},
   "outputs": [
    {
     "name": "stdout",
     "output_type": "stream",
     "text": [
      "http://127.0.0.1:5984\n"
     ]
    }
   ],
   "source": [
    "import sys, re, pickle, os\n",
    "%load_ext autoreload\n",
    "\n",
    "# Development library\n",
    "sys.path.append(\"/Users/guillaumelaunay/work/DVL/python3/pyproteinsExt/src\")\n",
    "sys.path.append(\"/Users/guillaumelaunay/work/DVL/python3/pyproteins/src\")\n",
    "sys.path.append(\"/Users/guillaumelaunay/work/DVL/python3/pyCouch/src\")\n",
    "\n",
    "import pycouch.wrapper as couchDB\n",
    "print(couchDB.DEFAULT_END_POINT)"
   ]
  },
  {
   "cell_type": "code",
   "execution_count": 2,
   "metadata": {},
   "outputs": [],
   "source": [
    "couchDB.setServerUrl('http://127.0.0.1:1234')"
   ]
  },
  {
   "cell_type": "code",
   "execution_count": 3,
   "metadata": {},
   "outputs": [
    {
     "name": "stdout",
     "output_type": "stream",
     "text": [
      "Connection established\n",
      " {'couchdb': 'Welcome', 'version': '2.3.0', 'git_sha': '07ea0c7', 'uuid': '331b070ac7b00e3cdb2b676f20a87b68', 'features': ['pluggable-storage-engines', 'scheduler'], 'vendor': {'name': 'The Apache Software Foundation'}}\n"
     ]
    },
    {
     "data": {
      "text/plain": [
       "True"
      ]
     },
     "execution_count": 3,
     "metadata": {},
     "output_type": "execute_result"
    }
   ],
   "source": [
    "couchDB.couchPing()"
   ]
  },
  {
   "cell_type": "code",
   "execution_count": 9,
   "metadata": {},
   "outputs": [
    {
     "name": "stdout",
     "output_type": "stream",
     "text": [
      "{'_id': 'AAAAAAAAAAAAAAAATCAATGG', '_rev': '1-92c50e1d2c2b01c1eb8ee30bd4b72dee', 'Buchnera aphidicola BCc GCF_000090965.1': {'NC_008513.1': ['-(203304,203326)']}}\n"
     ]
    }
   ],
   "source": [
    "a=couchDB.couchGetDoc(\"crispr_dvl\",\"AAAAAAAAAAAAAAAATCAATGG\")\n",
    "print(a)"
   ]
  },
  {
   "cell_type": "code",
   "execution_count": 10,
   "metadata": {},
   "outputs": [],
   "source": [
    "couchDB.couchAddDoc({\"A\":[\"A\", \"L\"]}, target=\"crispr_dvl\",key=\"zzz\")"
   ]
  },
  {
   "cell_type": "code",
   "execution_count": 11,
   "metadata": {},
   "outputs": [
    {
     "data": {
      "text/plain": [
       "{'A': ['A', 'L'], '_id': 'zzz', '_rev': '1-88cdac39a0ac1e7ee1fb90fad16d6e2d'}"
      ]
     },
     "execution_count": 11,
     "metadata": {},
     "output_type": "execute_result"
    }
   ],
   "source": [
    "couchDB.couchGetDoc(\"crispr_dvl\",\"zzz\")"
   ]
  },
  {
   "cell_type": "code",
   "execution_count": 13,
   "metadata": {},
   "outputs": [
    {
     "data": {
      "text/plain": [
       "{'results': [{'docs': [{'ok': {'A': ['A', 'L'],\n",
       "      '_id': 'zzz',\n",
       "      '_rev': '1-88cdac39a0ac1e7ee1fb90fad16d6e2d'}}],\n",
       "   'id': 'zzz'},\n",
       "  {'docs': [{'error': {'error': 'not_found',\n",
       "      'id': 'A',\n",
       "      'reason': 'missing',\n",
       "      'rev': 'undefined'}}],\n",
       "   'id': 'A'},\n",
       "  {'docs': [{'ok': {'Buchnera aphidicola BCc GCF_000090965.1': {'NC_008513.1': ['-(203304,203326)']},\n",
       "      '_id': 'AAAAAAAAAAAAAAAATCAATGG',\n",
       "      '_rev': '1-92c50e1d2c2b01c1eb8ee30bd4b72dee'}}],\n",
       "   'id': 'AAAAAAAAAAAAAAAATCAATGG'}]}"
      ]
     },
     "execution_count": 13,
     "metadata": {},
     "output_type": "execute_result"
    }
   ],
   "source": [
    "reqList = [\"zzz\", \"A\", \"AAAAAAAAAAAAAAAATCAATGG\"]\n",
    "couchDB.bulkRequestByKey(reqList, \"crispr_dvl\")"
   ]
  }
 ],
 "metadata": {
  "kernelspec": {
   "display_name": "Python 3",
   "language": "python",
   "name": "python3"
  },
  "language_info": {
   "codemirror_mode": {
    "name": "ipython",
    "version": 3
   },
   "file_extension": ".py",
   "mimetype": "text/x-python",
   "name": "python",
   "nbconvert_exporter": "python",
   "pygments_lexer": "ipython3",
   "version": "3.6.2"
  }
 },
 "nbformat": 4,
 "nbformat_minor": 2
}
